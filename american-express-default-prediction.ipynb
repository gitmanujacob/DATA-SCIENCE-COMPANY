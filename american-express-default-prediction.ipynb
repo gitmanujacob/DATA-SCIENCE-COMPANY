{
 "cells": [
  {
   "cell_type": "code",
   "execution_count": null,
   "id": "a1b29d57",
   "metadata": {
    "_cell_guid": "b1076dfc-b9ad-4769-8c92-a6c4dae69d19",
    "_uuid": "8f2839f25d086af736a60e9eeb907d3b93b6e0e5",
    "papermill": {
     "duration": 0.020025,
     "end_time": "2022-06-01T16:37:39.430732",
     "exception": false,
     "start_time": "2022-06-01T16:37:39.410707",
     "status": "completed"
    },
    "tags": []
   },
   "outputs": [],
   "source": []
  },
  {
   "cell_type": "code",
   "execution_count": 1,
   "id": "a4d557a6",
   "metadata": {
    "execution": {
     "iopub.execute_input": "2022-06-01T16:37:39.473273Z",
     "iopub.status.busy": "2022-06-01T16:37:39.472049Z",
     "iopub.status.idle": "2022-06-01T16:38:14.379370Z",
     "shell.execute_reply": "2022-06-01T16:38:14.379911Z"
    },
    "papermill": {
     "duration": 34.930186,
     "end_time": "2022-06-01T16:38:14.380226",
     "exception": false,
     "start_time": "2022-06-01T16:37:39.450040",
     "status": "completed"
    },
    "tags": []
   },
   "outputs": [
    {
     "data": {
      "text/plain": [
       "(500000, 190)"
      ]
     },
     "execution_count": 1,
     "metadata": {},
     "output_type": "execute_result"
    }
   ],
   "source": [
    "import pandas as pd\n",
    "df1=pd.read_csv(\"../input/amex-default-prediction/train_data.csv\",nrows=500000)\n",
    "\n",
    "df1.shape"
   ]
  },
  {
   "cell_type": "code",
   "execution_count": null,
   "id": "dfdff5bc",
   "metadata": {
    "papermill": {
     "duration": 0.022258,
     "end_time": "2022-06-01T16:38:14.426156",
     "exception": false,
     "start_time": "2022-06-01T16:38:14.403898",
     "status": "completed"
    },
    "tags": []
   },
   "outputs": [],
   "source": []
  },
  {
   "cell_type": "code",
   "execution_count": 2,
   "id": "d25cfd1a",
   "metadata": {
    "execution": {
     "iopub.execute_input": "2022-06-01T16:38:14.477539Z",
     "iopub.status.busy": "2022-06-01T16:38:14.476765Z",
     "iopub.status.idle": "2022-06-01T16:38:15.390120Z",
     "shell.execute_reply": "2022-06-01T16:38:15.389570Z"
    },
    "papermill": {
     "duration": 0.940214,
     "end_time": "2022-06-01T16:38:15.390273",
     "exception": false,
     "start_time": "2022-06-01T16:38:14.450059",
     "status": "completed"
    },
    "tags": []
   },
   "outputs": [
    {
     "data": {
      "text/html": [
       "<div>\n",
       "<style scoped>\n",
       "    .dataframe tbody tr th:only-of-type {\n",
       "        vertical-align: middle;\n",
       "    }\n",
       "\n",
       "    .dataframe tbody tr th {\n",
       "        vertical-align: top;\n",
       "    }\n",
       "\n",
       "    .dataframe thead th {\n",
       "        text-align: right;\n",
       "    }\n",
       "</style>\n",
       "<table border=\"1\" class=\"dataframe\">\n",
       "  <thead>\n",
       "    <tr style=\"text-align: right;\">\n",
       "      <th></th>\n",
       "      <th>customer_ID</th>\n",
       "      <th>target</th>\n",
       "    </tr>\n",
       "  </thead>\n",
       "  <tbody>\n",
       "    <tr>\n",
       "      <th>0</th>\n",
       "      <td>0000099d6bd597052cdcda90ffabf56573fe9d7c79be5f...</td>\n",
       "      <td>0</td>\n",
       "    </tr>\n",
       "    <tr>\n",
       "      <th>1</th>\n",
       "      <td>00000fd6641609c6ece5454664794f0340ad84dddce9a2...</td>\n",
       "      <td>0</td>\n",
       "    </tr>\n",
       "    <tr>\n",
       "      <th>2</th>\n",
       "      <td>00001b22f846c82c51f6e3958ccd81970162bae8b007e8...</td>\n",
       "      <td>0</td>\n",
       "    </tr>\n",
       "    <tr>\n",
       "      <th>3</th>\n",
       "      <td>000041bdba6ecadd89a52d11886e8eaaec9325906c9723...</td>\n",
       "      <td>0</td>\n",
       "    </tr>\n",
       "    <tr>\n",
       "      <th>4</th>\n",
       "      <td>00007889e4fcd2614b6cbe7f8f3d2e5c728eca32d9eb8a...</td>\n",
       "      <td>0</td>\n",
       "    </tr>\n",
       "  </tbody>\n",
       "</table>\n",
       "</div>"
      ],
      "text/plain": [
       "                                         customer_ID  target\n",
       "0  0000099d6bd597052cdcda90ffabf56573fe9d7c79be5f...       0\n",
       "1  00000fd6641609c6ece5454664794f0340ad84dddce9a2...       0\n",
       "2  00001b22f846c82c51f6e3958ccd81970162bae8b007e8...       0\n",
       "3  000041bdba6ecadd89a52d11886e8eaaec9325906c9723...       0\n",
       "4  00007889e4fcd2614b6cbe7f8f3d2e5c728eca32d9eb8a...       0"
      ]
     },
     "execution_count": 2,
     "metadata": {},
     "output_type": "execute_result"
    }
   ],
   "source": [
    "df2=pd.read_csv(\"../input/amex-default-prediction/train_labels.csv\",nrows=500000)\n",
    "\n",
    "df2.head()"
   ]
  },
  {
   "cell_type": "code",
   "execution_count": 3,
   "id": "efe3fe7f",
   "metadata": {
    "execution": {
     "iopub.execute_input": "2022-06-01T16:38:15.439659Z",
     "iopub.status.busy": "2022-06-01T16:38:15.438844Z",
     "iopub.status.idle": "2022-06-01T16:38:16.906562Z",
     "shell.execute_reply": "2022-06-01T16:38:16.905862Z"
    },
    "papermill": {
     "duration": 1.496164,
     "end_time": "2022-06-01T16:38:16.906711",
     "exception": false,
     "start_time": "2022-06-01T16:38:15.410547",
     "status": "completed"
    },
    "tags": []
   },
   "outputs": [
    {
     "data": {
      "text/html": [
       "<div>\n",
       "<style scoped>\n",
       "    .dataframe tbody tr th:only-of-type {\n",
       "        vertical-align: middle;\n",
       "    }\n",
       "\n",
       "    .dataframe tbody tr th {\n",
       "        vertical-align: top;\n",
       "    }\n",
       "\n",
       "    .dataframe thead th {\n",
       "        text-align: right;\n",
       "    }\n",
       "</style>\n",
       "<table border=\"1\" class=\"dataframe\">\n",
       "  <thead>\n",
       "    <tr style=\"text-align: right;\">\n",
       "      <th></th>\n",
       "      <th>customer_ID</th>\n",
       "      <th>S_2</th>\n",
       "      <th>P_2</th>\n",
       "      <th>D_39</th>\n",
       "      <th>B_1</th>\n",
       "      <th>B_2</th>\n",
       "      <th>R_1</th>\n",
       "      <th>S_3</th>\n",
       "      <th>D_41</th>\n",
       "      <th>B_3</th>\n",
       "      <th>...</th>\n",
       "      <th>D_137</th>\n",
       "      <th>D_138</th>\n",
       "      <th>D_139</th>\n",
       "      <th>D_140</th>\n",
       "      <th>D_141</th>\n",
       "      <th>D_142</th>\n",
       "      <th>D_143</th>\n",
       "      <th>D_144</th>\n",
       "      <th>D_145</th>\n",
       "      <th>target</th>\n",
       "    </tr>\n",
       "  </thead>\n",
       "  <tbody>\n",
       "    <tr>\n",
       "      <th>0</th>\n",
       "      <td>0000099d6bd597052cdcda90ffabf56573fe9d7c79be5f...</td>\n",
       "      <td>2017-03-09</td>\n",
       "      <td>0.938469</td>\n",
       "      <td>0.001733</td>\n",
       "      <td>0.008724</td>\n",
       "      <td>1.006838</td>\n",
       "      <td>0.009228</td>\n",
       "      <td>0.124035</td>\n",
       "      <td>0.008771</td>\n",
       "      <td>0.004709</td>\n",
       "      <td>...</td>\n",
       "      <td>NaN</td>\n",
       "      <td>NaN</td>\n",
       "      <td>0.002427</td>\n",
       "      <td>0.003706</td>\n",
       "      <td>0.003818</td>\n",
       "      <td>NaN</td>\n",
       "      <td>0.000569</td>\n",
       "      <td>0.000610</td>\n",
       "      <td>0.002674</td>\n",
       "      <td>0</td>\n",
       "    </tr>\n",
       "    <tr>\n",
       "      <th>1</th>\n",
       "      <td>0000099d6bd597052cdcda90ffabf56573fe9d7c79be5f...</td>\n",
       "      <td>2017-04-07</td>\n",
       "      <td>0.936665</td>\n",
       "      <td>0.005775</td>\n",
       "      <td>0.004923</td>\n",
       "      <td>1.000653</td>\n",
       "      <td>0.006151</td>\n",
       "      <td>0.126750</td>\n",
       "      <td>0.000798</td>\n",
       "      <td>0.002714</td>\n",
       "      <td>...</td>\n",
       "      <td>NaN</td>\n",
       "      <td>NaN</td>\n",
       "      <td>0.003954</td>\n",
       "      <td>0.003167</td>\n",
       "      <td>0.005032</td>\n",
       "      <td>NaN</td>\n",
       "      <td>0.009576</td>\n",
       "      <td>0.005492</td>\n",
       "      <td>0.009217</td>\n",
       "      <td>0</td>\n",
       "    </tr>\n",
       "    <tr>\n",
       "      <th>2</th>\n",
       "      <td>0000099d6bd597052cdcda90ffabf56573fe9d7c79be5f...</td>\n",
       "      <td>2017-05-28</td>\n",
       "      <td>0.954180</td>\n",
       "      <td>0.091505</td>\n",
       "      <td>0.021655</td>\n",
       "      <td>1.009672</td>\n",
       "      <td>0.006815</td>\n",
       "      <td>0.123977</td>\n",
       "      <td>0.007598</td>\n",
       "      <td>0.009423</td>\n",
       "      <td>...</td>\n",
       "      <td>NaN</td>\n",
       "      <td>NaN</td>\n",
       "      <td>0.003269</td>\n",
       "      <td>0.007329</td>\n",
       "      <td>0.000427</td>\n",
       "      <td>NaN</td>\n",
       "      <td>0.003429</td>\n",
       "      <td>0.006986</td>\n",
       "      <td>0.002603</td>\n",
       "      <td>0</td>\n",
       "    </tr>\n",
       "    <tr>\n",
       "      <th>3</th>\n",
       "      <td>0000099d6bd597052cdcda90ffabf56573fe9d7c79be5f...</td>\n",
       "      <td>2017-06-13</td>\n",
       "      <td>0.960384</td>\n",
       "      <td>0.002455</td>\n",
       "      <td>0.013683</td>\n",
       "      <td>1.002700</td>\n",
       "      <td>0.001373</td>\n",
       "      <td>0.117169</td>\n",
       "      <td>0.000685</td>\n",
       "      <td>0.005531</td>\n",
       "      <td>...</td>\n",
       "      <td>NaN</td>\n",
       "      <td>NaN</td>\n",
       "      <td>0.006117</td>\n",
       "      <td>0.004516</td>\n",
       "      <td>0.003200</td>\n",
       "      <td>NaN</td>\n",
       "      <td>0.008419</td>\n",
       "      <td>0.006527</td>\n",
       "      <td>0.009600</td>\n",
       "      <td>0</td>\n",
       "    </tr>\n",
       "    <tr>\n",
       "      <th>4</th>\n",
       "      <td>0000099d6bd597052cdcda90ffabf56573fe9d7c79be5f...</td>\n",
       "      <td>2017-07-16</td>\n",
       "      <td>0.947248</td>\n",
       "      <td>0.002483</td>\n",
       "      <td>0.015193</td>\n",
       "      <td>1.000727</td>\n",
       "      <td>0.007605</td>\n",
       "      <td>0.117325</td>\n",
       "      <td>0.004653</td>\n",
       "      <td>0.009312</td>\n",
       "      <td>...</td>\n",
       "      <td>NaN</td>\n",
       "      <td>NaN</td>\n",
       "      <td>0.003671</td>\n",
       "      <td>0.004946</td>\n",
       "      <td>0.008889</td>\n",
       "      <td>NaN</td>\n",
       "      <td>0.001670</td>\n",
       "      <td>0.008126</td>\n",
       "      <td>0.009827</td>\n",
       "      <td>0</td>\n",
       "    </tr>\n",
       "  </tbody>\n",
       "</table>\n",
       "<p>5 rows × 191 columns</p>\n",
       "</div>"
      ],
      "text/plain": [
       "                                         customer_ID         S_2       P_2  \\\n",
       "0  0000099d6bd597052cdcda90ffabf56573fe9d7c79be5f...  2017-03-09  0.938469   \n",
       "1  0000099d6bd597052cdcda90ffabf56573fe9d7c79be5f...  2017-04-07  0.936665   \n",
       "2  0000099d6bd597052cdcda90ffabf56573fe9d7c79be5f...  2017-05-28  0.954180   \n",
       "3  0000099d6bd597052cdcda90ffabf56573fe9d7c79be5f...  2017-06-13  0.960384   \n",
       "4  0000099d6bd597052cdcda90ffabf56573fe9d7c79be5f...  2017-07-16  0.947248   \n",
       "\n",
       "       D_39       B_1       B_2       R_1       S_3      D_41       B_3  ...  \\\n",
       "0  0.001733  0.008724  1.006838  0.009228  0.124035  0.008771  0.004709  ...   \n",
       "1  0.005775  0.004923  1.000653  0.006151  0.126750  0.000798  0.002714  ...   \n",
       "2  0.091505  0.021655  1.009672  0.006815  0.123977  0.007598  0.009423  ...   \n",
       "3  0.002455  0.013683  1.002700  0.001373  0.117169  0.000685  0.005531  ...   \n",
       "4  0.002483  0.015193  1.000727  0.007605  0.117325  0.004653  0.009312  ...   \n",
       "\n",
       "   D_137  D_138     D_139     D_140     D_141  D_142     D_143     D_144  \\\n",
       "0    NaN    NaN  0.002427  0.003706  0.003818    NaN  0.000569  0.000610   \n",
       "1    NaN    NaN  0.003954  0.003167  0.005032    NaN  0.009576  0.005492   \n",
       "2    NaN    NaN  0.003269  0.007329  0.000427    NaN  0.003429  0.006986   \n",
       "3    NaN    NaN  0.006117  0.004516  0.003200    NaN  0.008419  0.006527   \n",
       "4    NaN    NaN  0.003671  0.004946  0.008889    NaN  0.001670  0.008126   \n",
       "\n",
       "      D_145  target  \n",
       "0  0.002674       0  \n",
       "1  0.009217       0  \n",
       "2  0.002603       0  \n",
       "3  0.009600       0  \n",
       "4  0.009827       0  \n",
       "\n",
       "[5 rows x 191 columns]"
      ]
     },
     "execution_count": 3,
     "metadata": {},
     "output_type": "execute_result"
    }
   ],
   "source": [
    "df=pd.merge(df1,df2,on=\"customer_ID\")\n",
    "df.head()"
   ]
  },
  {
   "cell_type": "code",
   "execution_count": 4,
   "id": "0493e059",
   "metadata": {
    "execution": {
     "iopub.execute_input": "2022-06-01T16:38:16.959848Z",
     "iopub.status.busy": "2022-06-01T16:38:16.957337Z",
     "iopub.status.idle": "2022-06-01T16:38:16.965776Z",
     "shell.execute_reply": "2022-06-01T16:38:16.966391Z"
    },
    "papermill": {
     "duration": 0.036756,
     "end_time": "2022-06-01T16:38:16.966611",
     "exception": false,
     "start_time": "2022-06-01T16:38:16.929855",
     "status": "completed"
    },
    "tags": []
   },
   "outputs": [
    {
     "data": {
      "text/plain": [
       "181"
      ]
     },
     "execution_count": 4,
     "metadata": {},
     "output_type": "execute_result"
    }
   ],
   "source": [
    "df.D_41.isna().sum()"
   ]
  },
  {
   "cell_type": "code",
   "execution_count": 5,
   "id": "6b8a2a05",
   "metadata": {
    "execution": {
     "iopub.execute_input": "2022-06-01T16:38:17.023051Z",
     "iopub.status.busy": "2022-06-01T16:38:17.022377Z",
     "iopub.status.idle": "2022-06-01T16:38:17.026399Z",
     "shell.execute_reply": "2022-06-01T16:38:17.025745Z"
    },
    "papermill": {
     "duration": 0.03431,
     "end_time": "2022-06-01T16:38:17.026543",
     "exception": false,
     "start_time": "2022-06-01T16:38:16.992233",
     "status": "completed"
    },
    "tags": []
   },
   "outputs": [
    {
     "name": "stdout",
     "output_type": "stream",
     "text": [
      "['D_39', 'D_41', 'D_42', 'D_43', 'D_44', 'D_45', 'D_46', 'D_47', 'D_48', 'D_49', 'D_50', 'D_51', 'D_52', 'D_53', 'D_54', 'D_55', 'D_56', 'D_58', 'D_59', 'D_60', 'D_61', 'D_62', 'D_63', 'D_64', 'D_65', 'D_66', 'D_68', 'D_69', 'D_70', 'D_71', 'D_72', 'D_73', 'D_74', 'D_75', 'D_76', 'D_77', 'D_78', 'D_79', 'D_80', 'D_81', 'D_82', 'D_83', 'D_84', 'D_86', 'D_87', 'D_88', 'D_89', 'D_91', 'D_92', 'D_93', 'D_94', 'D_96', 'D_102', 'D_103', 'D_104', 'D_105', 'D_106', 'D_107', 'D_108', 'D_109', 'D_110', 'D_111', 'D_112', 'D_113', 'D_114', 'D_115', 'D_116', 'D_117', 'D_118', 'D_119', 'D_120', 'D_121', 'D_122', 'D_123', 'D_124', 'D_125', 'D_126', 'D_127', 'D_128', 'D_129', 'D_130', 'D_131', 'D_132', 'D_133', 'D_134', 'D_135', 'D_136', 'D_137', 'D_138', 'D_139', 'D_140', 'D_141', 'D_142', 'D_143', 'D_144', 'D_145']\n"
     ]
    }
   ],
   "source": [
    "import re\n",
    "dd=df.columns.tolist()\n",
    "ff=[]\n",
    "for x in dd:\n",
    "  if re.findall(\"D_\\d+\",x):\n",
    "    ff.append(x)\n",
    "print(ff)"
   ]
  },
  {
   "cell_type": "code",
   "execution_count": 6,
   "id": "45b35696",
   "metadata": {
    "execution": {
     "iopub.execute_input": "2022-06-01T16:38:17.145422Z",
     "iopub.status.busy": "2022-06-01T16:38:17.144300Z",
     "iopub.status.idle": "2022-06-01T16:38:17.598422Z",
     "shell.execute_reply": "2022-06-01T16:38:17.598949Z"
    },
    "papermill": {
     "duration": 0.545217,
     "end_time": "2022-06-01T16:38:17.599158",
     "exception": false,
     "start_time": "2022-06-01T16:38:17.053941",
     "status": "completed"
    },
    "tags": []
   },
   "outputs": [
    {
     "name": "stdout",
     "output_type": "stream",
     "text": [
      "['customer_ID', 'S_2', 'P_2', 'D_39', 'B_1', 'B_2', 'R_1', 'S_3', 'D_41', 'B_3', 'D_42', 'D_43', 'D_44', 'B_4', 'D_45', 'B_5', 'R_2', 'D_46', 'D_47', 'D_48', 'D_49', 'B_6', 'B_7', 'B_8', 'D_50', 'D_51', 'B_9', 'R_3', 'D_52', 'P_3', 'B_10', 'D_53', 'S_5', 'B_11', 'S_6', 'D_54', 'R_4', 'S_7', 'B_12', 'S_8', 'D_55', 'D_56', 'B_13', 'R_5', 'D_58', 'S_9', 'B_14', 'D_59', 'D_60', 'D_61', 'B_15', 'S_11', 'D_62', 'D_63', 'D_64', 'D_65', 'B_16', 'B_17', 'B_18', 'B_19', 'D_66', 'B_20', 'D_68', 'S_12', 'R_6', 'S_13', 'B_21', 'D_69', 'B_22', 'D_70', 'D_71', 'D_72', 'S_15', 'B_23', 'D_73', 'P_4', 'D_74', 'D_75', 'D_76', 'B_24', 'R_7', 'D_77', 'B_25', 'B_26', 'D_78', 'D_79', 'R_8', 'R_9', 'S_16', 'D_80', 'R_10', 'R_11', 'B_27', 'D_81', 'D_82', 'S_17', 'R_12', 'B_28', 'R_13', 'D_83', 'R_14', 'R_15', 'D_84', 'R_16', 'B_29', 'B_30', 'S_18', 'D_86', 'D_87', 'R_17', 'R_18', 'D_88', 'B_31', 'S_19', 'R_19', 'B_32', 'S_20', 'R_20', 'R_21', 'B_33', 'D_89', 'R_22', 'R_23', 'D_91', 'D_92', 'D_93', 'D_94', 'R_24', 'R_25', 'D_96', 'S_22', 'S_23', 'S_24', 'S_25', 'S_26', 'D_102', 'D_103', 'D_104', 'D_105', 'D_106', 'D_107', 'B_36', 'B_37', 'R_26', 'R_27', 'B_38', 'D_108', 'D_109', 'D_110', 'D_111', 'B_39', 'D_112', 'B_40', 'S_27', 'D_113', 'D_114', 'D_115', 'D_116', 'D_117', 'D_118', 'D_119', 'D_120', 'D_121', 'D_122', 'D_123', 'D_124', 'D_125', 'D_126', 'D_127', 'D_128', 'D_129', 'B_41', 'B_42', 'D_130', 'D_131', 'D_132', 'D_133', 'R_28', 'D_134', 'D_135', 'D_136', 'D_137', 'D_138', 'D_139', 'D_140', 'D_141', 'D_142', 'D_143', 'D_144', 'D_145', 'target'] | [0, 0, 4094, 0, 0, 181, 0, 93007, 181, 181, 427672, 149891, 24926, 0, 181, 0, 0, 109675, 0, 64781, 450414, 15, 0, 2114, 283708, 0, 0, 0, 2619, 27254, 0, 369418, 0, 0, 0, 181, 0, 93007, 0, 0, 16848, 271285, 4435, 0, 0, 265094, 0, 9557, 0, 53567, 591, 0, 68285, 0, 19661, 0, 181, 282688, 0, 181, 444058, 181, 19442, 0, 0, 0, 0, 17423, 181, 8395, 0, 2073, 0, 0, 494964, 0, 1812, 0, 444189, 0, 0, 227981, 591, 181, 24926, 6622, 0, 471218, 0, 1812, 0, 0, 181, 2311, 365748, 0, 3, 0, 0, 17423, 0, 0, 2619, 0, 464967, 181, 0, 0, 499705, 0, 0, 499402, 0, 0, 0, 0, 0, 8, 0, 181, 2619, 0, 0, 14091, 0, 0, 0, 0, 0, 0, 1674, 22, 1641, 1220, 77, 3638, 8900, 8900, 272358, 450788, 8900, 0, 8, 445466, 11454, 181, 497365, 164, 496906, 496906, 496687, 258, 7, 127237, 15753, 15753, 15753, 15753, 15753, 15753, 15753, 15753, 15753, 15753, 15753, 15753, 15753, 10458, 0, 8900, 8900, 80, 493847, 8900, 8900, 450663, 3822, 0, 482411, 482411, 482411, 482411, 482411, 8900, 3636, 8900, 414011, 8900, 3651, 8900, 0]\n"
     ]
    }
   ],
   "source": [
    "sd1=[]\n",
    "sd2=[]\n",
    "for x in dd:\n",
    "    sd1.append(x)\n",
    "    sd2.append(df[x].isna().sum())\n",
    "print(sd1,\"|\",sd2)   "
   ]
  },
  {
   "cell_type": "code",
   "execution_count": 7,
   "id": "1738e7a4",
   "metadata": {
    "execution": {
     "iopub.execute_input": "2022-06-01T16:38:17.655716Z",
     "iopub.status.busy": "2022-06-01T16:38:17.655016Z",
     "iopub.status.idle": "2022-06-01T16:38:17.658137Z",
     "shell.execute_reply": "2022-06-01T16:38:17.658758Z"
    },
    "papermill": {
     "duration": 0.036708,
     "end_time": "2022-06-01T16:38:17.658936",
     "exception": false,
     "start_time": "2022-06-01T16:38:17.622228",
     "status": "completed"
    },
    "tags": []
   },
   "outputs": [
    {
     "data": {
      "text/html": [
       "<div>\n",
       "<style scoped>\n",
       "    .dataframe tbody tr th:only-of-type {\n",
       "        vertical-align: middle;\n",
       "    }\n",
       "\n",
       "    .dataframe tbody tr th {\n",
       "        vertical-align: top;\n",
       "    }\n",
       "\n",
       "    .dataframe thead th {\n",
       "        text-align: right;\n",
       "    }\n",
       "</style>\n",
       "<table border=\"1\" class=\"dataframe\">\n",
       "  <thead>\n",
       "    <tr style=\"text-align: right;\">\n",
       "      <th></th>\n",
       "      <th>0</th>\n",
       "      <th>1</th>\n",
       "    </tr>\n",
       "  </thead>\n",
       "  <tbody>\n",
       "    <tr>\n",
       "      <th>0</th>\n",
       "      <td>customer_ID</td>\n",
       "      <td>0</td>\n",
       "    </tr>\n",
       "    <tr>\n",
       "      <th>1</th>\n",
       "      <td>S_2</td>\n",
       "      <td>0</td>\n",
       "    </tr>\n",
       "    <tr>\n",
       "      <th>2</th>\n",
       "      <td>P_2</td>\n",
       "      <td>4094</td>\n",
       "    </tr>\n",
       "    <tr>\n",
       "      <th>3</th>\n",
       "      <td>D_39</td>\n",
       "      <td>0</td>\n",
       "    </tr>\n",
       "    <tr>\n",
       "      <th>4</th>\n",
       "      <td>B_1</td>\n",
       "      <td>0</td>\n",
       "    </tr>\n",
       "  </tbody>\n",
       "</table>\n",
       "</div>"
      ],
      "text/plain": [
       "             0     1\n",
       "0  customer_ID     0\n",
       "1          S_2     0\n",
       "2          P_2  4094\n",
       "3         D_39     0\n",
       "4          B_1     0"
      ]
     },
     "execution_count": 7,
     "metadata": {},
     "output_type": "execute_result"
    }
   ],
   "source": [
    "dic=pd.DataFrame(list(zip(sd1,sd2)))\n",
    "dic.head()"
   ]
  },
  {
   "cell_type": "code",
   "execution_count": 8,
   "id": "450fb559",
   "metadata": {
    "execution": {
     "iopub.execute_input": "2022-06-01T16:38:17.716782Z",
     "iopub.status.busy": "2022-06-01T16:38:17.714162Z",
     "iopub.status.idle": "2022-06-01T16:38:18.526438Z",
     "shell.execute_reply": "2022-06-01T16:38:18.525751Z"
    },
    "papermill": {
     "duration": 0.841383,
     "end_time": "2022-06-01T16:38:18.526664",
     "exception": false,
     "start_time": "2022-06-01T16:38:17.685281",
     "status": "completed"
    },
    "tags": []
   },
   "outputs": [],
   "source": [
    "sel=dic[~(dic[1]>500)][0].tolist()\n",
    "df1=df[sel]"
   ]
  },
  {
   "cell_type": "code",
   "execution_count": 9,
   "id": "aa2fdd59",
   "metadata": {
    "execution": {
     "iopub.execute_input": "2022-06-01T16:38:18.582421Z",
     "iopub.status.busy": "2022-06-01T16:38:18.581682Z",
     "iopub.status.idle": "2022-06-01T16:38:18.607171Z",
     "shell.execute_reply": "2022-06-01T16:38:18.606562Z"
    },
    "papermill": {
     "duration": 0.054797,
     "end_time": "2022-06-01T16:38:18.607363",
     "exception": false,
     "start_time": "2022-06-01T16:38:18.552566",
     "status": "completed"
    },
    "tags": []
   },
   "outputs": [
    {
     "data": {
      "text/html": [
       "<div>\n",
       "<style scoped>\n",
       "    .dataframe tbody tr th:only-of-type {\n",
       "        vertical-align: middle;\n",
       "    }\n",
       "\n",
       "    .dataframe tbody tr th {\n",
       "        vertical-align: top;\n",
       "    }\n",
       "\n",
       "    .dataframe thead th {\n",
       "        text-align: right;\n",
       "    }\n",
       "</style>\n",
       "<table border=\"1\" class=\"dataframe\">\n",
       "  <thead>\n",
       "    <tr style=\"text-align: right;\">\n",
       "      <th></th>\n",
       "      <th>customer_ID</th>\n",
       "      <th>S_2</th>\n",
       "      <th>D_39</th>\n",
       "      <th>B_1</th>\n",
       "      <th>B_2</th>\n",
       "      <th>R_1</th>\n",
       "      <th>D_41</th>\n",
       "      <th>B_3</th>\n",
       "      <th>B_4</th>\n",
       "      <th>D_45</th>\n",
       "      <th>...</th>\n",
       "      <th>B_36</th>\n",
       "      <th>B_37</th>\n",
       "      <th>B_38</th>\n",
       "      <th>D_109</th>\n",
       "      <th>D_112</th>\n",
       "      <th>B_40</th>\n",
       "      <th>D_127</th>\n",
       "      <th>B_41</th>\n",
       "      <th>R_28</th>\n",
       "      <th>target</th>\n",
       "    </tr>\n",
       "  </thead>\n",
       "  <tbody>\n",
       "    <tr>\n",
       "      <th>0</th>\n",
       "      <td>0000099d6bd597052cdcda90ffabf56573fe9d7c79be5f...</td>\n",
       "      <td>2017-03-09</td>\n",
       "      <td>0.001733</td>\n",
       "      <td>0.008724</td>\n",
       "      <td>1.006838</td>\n",
       "      <td>0.009228</td>\n",
       "      <td>0.008771</td>\n",
       "      <td>0.004709</td>\n",
       "      <td>0.080986</td>\n",
       "      <td>0.708906</td>\n",
       "      <td>...</td>\n",
       "      <td>0.009968</td>\n",
       "      <td>0.004572</td>\n",
       "      <td>2.0</td>\n",
       "      <td>0.004326</td>\n",
       "      <td>1.007336</td>\n",
       "      <td>0.210060</td>\n",
       "      <td>1.003319</td>\n",
       "      <td>0.006805</td>\n",
       "      <td>0.001535</td>\n",
       "      <td>0</td>\n",
       "    </tr>\n",
       "    <tr>\n",
       "      <th>1</th>\n",
       "      <td>0000099d6bd597052cdcda90ffabf56573fe9d7c79be5f...</td>\n",
       "      <td>2017-04-07</td>\n",
       "      <td>0.005775</td>\n",
       "      <td>0.004923</td>\n",
       "      <td>1.000653</td>\n",
       "      <td>0.006151</td>\n",
       "      <td>0.000798</td>\n",
       "      <td>0.002714</td>\n",
       "      <td>0.069419</td>\n",
       "      <td>0.712795</td>\n",
       "      <td>...</td>\n",
       "      <td>0.003921</td>\n",
       "      <td>0.004654</td>\n",
       "      <td>2.0</td>\n",
       "      <td>0.008707</td>\n",
       "      <td>1.007653</td>\n",
       "      <td>0.184093</td>\n",
       "      <td>1.008394</td>\n",
       "      <td>0.004407</td>\n",
       "      <td>0.004931</td>\n",
       "      <td>0</td>\n",
       "    </tr>\n",
       "    <tr>\n",
       "      <th>2</th>\n",
       "      <td>0000099d6bd597052cdcda90ffabf56573fe9d7c79be5f...</td>\n",
       "      <td>2017-05-28</td>\n",
       "      <td>0.091505</td>\n",
       "      <td>0.021655</td>\n",
       "      <td>1.009672</td>\n",
       "      <td>0.006815</td>\n",
       "      <td>0.007598</td>\n",
       "      <td>0.009423</td>\n",
       "      <td>0.068839</td>\n",
       "      <td>0.720884</td>\n",
       "      <td>...</td>\n",
       "      <td>0.001264</td>\n",
       "      <td>0.019176</td>\n",
       "      <td>2.0</td>\n",
       "      <td>0.004092</td>\n",
       "      <td>1.004312</td>\n",
       "      <td>0.154837</td>\n",
       "      <td>1.009307</td>\n",
       "      <td>0.003221</td>\n",
       "      <td>0.009123</td>\n",
       "      <td>0</td>\n",
       "    </tr>\n",
       "    <tr>\n",
       "      <th>3</th>\n",
       "      <td>0000099d6bd597052cdcda90ffabf56573fe9d7c79be5f...</td>\n",
       "      <td>2017-06-13</td>\n",
       "      <td>0.002455</td>\n",
       "      <td>0.013683</td>\n",
       "      <td>1.002700</td>\n",
       "      <td>0.001373</td>\n",
       "      <td>0.000685</td>\n",
       "      <td>0.005531</td>\n",
       "      <td>0.055630</td>\n",
       "      <td>0.723997</td>\n",
       "      <td>...</td>\n",
       "      <td>0.002729</td>\n",
       "      <td>0.011720</td>\n",
       "      <td>2.0</td>\n",
       "      <td>0.009703</td>\n",
       "      <td>1.002538</td>\n",
       "      <td>0.153939</td>\n",
       "      <td>1.001671</td>\n",
       "      <td>0.007703</td>\n",
       "      <td>0.002409</td>\n",
       "      <td>0</td>\n",
       "    </tr>\n",
       "    <tr>\n",
       "      <th>4</th>\n",
       "      <td>0000099d6bd597052cdcda90ffabf56573fe9d7c79be5f...</td>\n",
       "      <td>2017-07-16</td>\n",
       "      <td>0.002483</td>\n",
       "      <td>0.015193</td>\n",
       "      <td>1.000727</td>\n",
       "      <td>0.007605</td>\n",
       "      <td>0.004653</td>\n",
       "      <td>0.009312</td>\n",
       "      <td>0.038862</td>\n",
       "      <td>0.720619</td>\n",
       "      <td>...</td>\n",
       "      <td>0.009998</td>\n",
       "      <td>0.017598</td>\n",
       "      <td>2.0</td>\n",
       "      <td>0.009120</td>\n",
       "      <td>1.000130</td>\n",
       "      <td>0.120717</td>\n",
       "      <td>1.009886</td>\n",
       "      <td>0.009823</td>\n",
       "      <td>0.004462</td>\n",
       "      <td>0</td>\n",
       "    </tr>\n",
       "  </tbody>\n",
       "</table>\n",
       "<p>5 rows × 95 columns</p>\n",
       "</div>"
      ],
      "text/plain": [
       "                                         customer_ID         S_2      D_39  \\\n",
       "0  0000099d6bd597052cdcda90ffabf56573fe9d7c79be5f...  2017-03-09  0.001733   \n",
       "1  0000099d6bd597052cdcda90ffabf56573fe9d7c79be5f...  2017-04-07  0.005775   \n",
       "2  0000099d6bd597052cdcda90ffabf56573fe9d7c79be5f...  2017-05-28  0.091505   \n",
       "3  0000099d6bd597052cdcda90ffabf56573fe9d7c79be5f...  2017-06-13  0.002455   \n",
       "4  0000099d6bd597052cdcda90ffabf56573fe9d7c79be5f...  2017-07-16  0.002483   \n",
       "\n",
       "        B_1       B_2       R_1      D_41       B_3       B_4      D_45  ...  \\\n",
       "0  0.008724  1.006838  0.009228  0.008771  0.004709  0.080986  0.708906  ...   \n",
       "1  0.004923  1.000653  0.006151  0.000798  0.002714  0.069419  0.712795  ...   \n",
       "2  0.021655  1.009672  0.006815  0.007598  0.009423  0.068839  0.720884  ...   \n",
       "3  0.013683  1.002700  0.001373  0.000685  0.005531  0.055630  0.723997  ...   \n",
       "4  0.015193  1.000727  0.007605  0.004653  0.009312  0.038862  0.720619  ...   \n",
       "\n",
       "       B_36      B_37  B_38     D_109     D_112      B_40     D_127      B_41  \\\n",
       "0  0.009968  0.004572   2.0  0.004326  1.007336  0.210060  1.003319  0.006805   \n",
       "1  0.003921  0.004654   2.0  0.008707  1.007653  0.184093  1.008394  0.004407   \n",
       "2  0.001264  0.019176   2.0  0.004092  1.004312  0.154837  1.009307  0.003221   \n",
       "3  0.002729  0.011720   2.0  0.009703  1.002538  0.153939  1.001671  0.007703   \n",
       "4  0.009998  0.017598   2.0  0.009120  1.000130  0.120717  1.009886  0.009823   \n",
       "\n",
       "       R_28  target  \n",
       "0  0.001535       0  \n",
       "1  0.004931       0  \n",
       "2  0.009123       0  \n",
       "3  0.002409       0  \n",
       "4  0.004462       0  \n",
       "\n",
       "[5 rows x 95 columns]"
      ]
     },
     "execution_count": 9,
     "metadata": {},
     "output_type": "execute_result"
    }
   ],
   "source": [
    "df1.head()"
   ]
  },
  {
   "cell_type": "code",
   "execution_count": null,
   "id": "8e7747d8",
   "metadata": {
    "papermill": {
     "duration": 0.02711,
     "end_time": "2022-06-01T16:38:18.661579",
     "exception": false,
     "start_time": "2022-06-01T16:38:18.634469",
     "status": "completed"
    },
    "tags": []
   },
   "outputs": [],
   "source": []
  },
  {
   "cell_type": "code",
   "execution_count": 10,
   "id": "a33c523e",
   "metadata": {
    "execution": {
     "iopub.execute_input": "2022-06-01T16:38:18.719492Z",
     "iopub.status.busy": "2022-06-01T16:38:18.718744Z",
     "iopub.status.idle": "2022-06-01T16:38:18.730393Z",
     "shell.execute_reply": "2022-06-01T16:38:18.731167Z"
    },
    "papermill": {
     "duration": 0.042208,
     "end_time": "2022-06-01T16:38:18.731390",
     "exception": false,
     "start_time": "2022-06-01T16:38:18.689182",
     "status": "completed"
    },
    "tags": []
   },
   "outputs": [],
   "source": [
    "df2=df[[\"customer_ID\",'P_2', 'P_3', 'P_4']]"
   ]
  },
  {
   "cell_type": "code",
   "execution_count": 11,
   "id": "96cac8de",
   "metadata": {
    "execution": {
     "iopub.execute_input": "2022-06-01T16:38:18.789623Z",
     "iopub.status.busy": "2022-06-01T16:38:18.788768Z",
     "iopub.status.idle": "2022-06-01T16:38:34.434440Z",
     "shell.execute_reply": "2022-06-01T16:38:34.433272Z"
    },
    "papermill": {
     "duration": 15.675513,
     "end_time": "2022-06-01T16:38:34.434855",
     "exception": false,
     "start_time": "2022-06-01T16:38:18.759342",
     "status": "completed"
    },
    "tags": []
   },
   "outputs": [],
   "source": [
    "df=pd.merge(df2,df1,on=\"customer_ID\")"
   ]
  },
  {
   "cell_type": "code",
   "execution_count": 12,
   "id": "3b509de4",
   "metadata": {
    "execution": {
     "iopub.execute_input": "2022-06-01T16:38:34.490127Z",
     "iopub.status.busy": "2022-06-01T16:38:34.489145Z",
     "iopub.status.idle": "2022-06-01T16:38:45.562765Z",
     "shell.execute_reply": "2022-06-01T16:38:45.562025Z"
    },
    "papermill": {
     "duration": 11.101138,
     "end_time": "2022-06-01T16:38:45.562912",
     "exception": false,
     "start_time": "2022-06-01T16:38:34.461774",
     "status": "completed"
    },
    "tags": []
   },
   "outputs": [],
   "source": [
    "df=df[~((df.B_1<0)&(df.target==1))]"
   ]
  },
  {
   "cell_type": "code",
   "execution_count": 13,
   "id": "b4f3883e",
   "metadata": {
    "execution": {
     "iopub.execute_input": "2022-06-01T16:38:45.622047Z",
     "iopub.status.busy": "2022-06-01T16:38:45.620949Z",
     "iopub.status.idle": "2022-06-01T16:38:48.062909Z",
     "shell.execute_reply": "2022-06-01T16:38:48.062326Z"
    },
    "papermill": {
     "duration": 2.476279,
     "end_time": "2022-06-01T16:38:48.063052",
     "exception": false,
     "start_time": "2022-06-01T16:38:45.586773",
     "status": "completed"
    },
    "tags": []
   },
   "outputs": [],
   "source": [
    "df=df[~((df.B_37<0)&(df.target==1))]"
   ]
  },
  {
   "cell_type": "code",
   "execution_count": 14,
   "id": "f055c532",
   "metadata": {
    "execution": {
     "iopub.execute_input": "2022-06-01T16:38:48.128977Z",
     "iopub.status.busy": "2022-06-01T16:38:48.124529Z",
     "iopub.status.idle": "2022-06-01T16:38:48.156968Z",
     "shell.execute_reply": "2022-06-01T16:38:48.156334Z"
    },
    "papermill": {
     "duration": 0.069796,
     "end_time": "2022-06-01T16:38:48.157155",
     "exception": false,
     "start_time": "2022-06-01T16:38:48.087359",
     "status": "completed"
    },
    "tags": []
   },
   "outputs": [
    {
     "data": {
      "text/html": [
       "<div>\n",
       "<style scoped>\n",
       "    .dataframe tbody tr th:only-of-type {\n",
       "        vertical-align: middle;\n",
       "    }\n",
       "\n",
       "    .dataframe tbody tr th {\n",
       "        vertical-align: top;\n",
       "    }\n",
       "\n",
       "    .dataframe thead th {\n",
       "        text-align: right;\n",
       "    }\n",
       "</style>\n",
       "<table border=\"1\" class=\"dataframe\">\n",
       "  <thead>\n",
       "    <tr style=\"text-align: right;\">\n",
       "      <th></th>\n",
       "      <th>customer_ID</th>\n",
       "      <th>P_2</th>\n",
       "      <th>P_3</th>\n",
       "      <th>P_4_x</th>\n",
       "      <th>S_2</th>\n",
       "      <th>D_39</th>\n",
       "      <th>B_1</th>\n",
       "      <th>B_2</th>\n",
       "      <th>R_1</th>\n",
       "      <th>D_41</th>\n",
       "      <th>...</th>\n",
       "      <th>B_36</th>\n",
       "      <th>B_37</th>\n",
       "      <th>B_38</th>\n",
       "      <th>D_109</th>\n",
       "      <th>D_112</th>\n",
       "      <th>B_40</th>\n",
       "      <th>D_127</th>\n",
       "      <th>B_41</th>\n",
       "      <th>R_28</th>\n",
       "      <th>target</th>\n",
       "    </tr>\n",
       "  </thead>\n",
       "  <tbody>\n",
       "  </tbody>\n",
       "</table>\n",
       "<p>0 rows × 98 columns</p>\n",
       "</div>"
      ],
      "text/plain": [
       "Empty DataFrame\n",
       "Columns: [customer_ID, P_2, P_3, P_4_x, S_2, D_39, B_1, B_2, R_1, D_41, B_3, B_4, D_45, B_5, R_2, D_47, B_6, B_7, D_51, B_9, R_3, B_10, S_5, B_11, S_6, D_54, R_4, B_12, S_8, R_5, D_58, B_14, D_60, S_11, D_63, D_65, B_16, B_18, B_19, B_20, S_12, R_6, S_13, B_21, B_22, D_71, S_15, B_23, P_4_y, D_75, B_24, R_7, B_26, R_8, S_16, R_10, R_11, B_27, S_17, R_12, B_28, R_13, R_14, R_15, R_16, B_30, S_18, D_86, R_17, R_18, B_31, S_19, R_19, B_32, S_20, R_20, R_21, B_33, R_22, R_23, D_92, D_93, D_94, R_24, R_25, D_96, S_23, S_26, B_36, B_37, B_38, D_109, D_112, B_40, D_127, B_41, R_28, target]\n",
       "Index: []\n",
       "\n",
       "[0 rows x 98 columns]"
      ]
     },
     "execution_count": 14,
     "metadata": {},
     "output_type": "execute_result"
    }
   ],
   "source": [
    "df[((df.B_40<0)&(df.target==0))]"
   ]
  },
  {
   "cell_type": "code",
   "execution_count": 15,
   "id": "736e11d3",
   "metadata": {
    "execution": {
     "iopub.execute_input": "2022-06-01T16:38:48.210755Z",
     "iopub.status.busy": "2022-06-01T16:38:48.209794Z",
     "iopub.status.idle": "2022-06-01T16:38:48.252251Z",
     "shell.execute_reply": "2022-06-01T16:38:48.251663Z"
    },
    "papermill": {
     "duration": 0.070512,
     "end_time": "2022-06-01T16:38:48.252401",
     "exception": false,
     "start_time": "2022-06-01T16:38:48.181889",
     "status": "completed"
    },
    "tags": []
   },
   "outputs": [
    {
     "data": {
      "text/plain": [
       "array([0, 1])"
      ]
     },
     "execution_count": 15,
     "metadata": {},
     "output_type": "execute_result"
    }
   ],
   "source": [
    "df.target.unique()"
   ]
  },
  {
   "cell_type": "code",
   "execution_count": 16,
   "id": "1df2c664",
   "metadata": {
    "execution": {
     "iopub.execute_input": "2022-06-01T16:38:48.306414Z",
     "iopub.status.busy": "2022-06-01T16:38:48.305450Z",
     "iopub.status.idle": "2022-06-01T16:38:50.583141Z",
     "shell.execute_reply": "2022-06-01T16:38:50.582543Z"
    },
    "papermill": {
     "duration": 2.305964,
     "end_time": "2022-06-01T16:38:50.583290",
     "exception": false,
     "start_time": "2022-06-01T16:38:48.277326",
     "status": "completed"
    },
    "tags": []
   },
   "outputs": [],
   "source": [
    "df=df[~((df.P_2.isna())&(df.target==1))]"
   ]
  },
  {
   "cell_type": "code",
   "execution_count": 17,
   "id": "3f0f6105",
   "metadata": {
    "execution": {
     "iopub.execute_input": "2022-06-01T16:38:50.638560Z",
     "iopub.status.busy": "2022-06-01T16:38:50.637816Z",
     "iopub.status.idle": "2022-06-01T16:38:50.657582Z",
     "shell.execute_reply": "2022-06-01T16:38:50.656914Z"
    },
    "papermill": {
     "duration": 0.048244,
     "end_time": "2022-06-01T16:38:50.657726",
     "exception": false,
     "start_time": "2022-06-01T16:38:50.609482",
     "status": "completed"
    },
    "tags": []
   },
   "outputs": [
    {
     "data": {
      "text/plain": [
       "239241"
      ]
     },
     "execution_count": 17,
     "metadata": {},
     "output_type": "execute_result"
    }
   ],
   "source": [
    "df.P_3.isna().sum()"
   ]
  },
  {
   "cell_type": "code",
   "execution_count": 18,
   "id": "47ca3679",
   "metadata": {
    "execution": {
     "iopub.execute_input": "2022-06-01T16:38:50.712211Z",
     "iopub.status.busy": "2022-06-01T16:38:50.711506Z",
     "iopub.status.idle": "2022-06-01T16:38:52.723030Z",
     "shell.execute_reply": "2022-06-01T16:38:52.722435Z"
    },
    "papermill": {
     "duration": 2.03967,
     "end_time": "2022-06-01T16:38:52.723191",
     "exception": false,
     "start_time": "2022-06-01T16:38:50.683521",
     "status": "completed"
    },
    "tags": []
   },
   "outputs": [],
   "source": [
    "df.drop(\"P_3\",axis=1,inplace=True)"
   ]
  },
  {
   "cell_type": "code",
   "execution_count": 19,
   "id": "19232ee0",
   "metadata": {
    "execution": {
     "iopub.execute_input": "2022-06-01T16:38:52.794367Z",
     "iopub.status.busy": "2022-06-01T16:38:52.778137Z",
     "iopub.status.idle": "2022-06-01T16:38:52.807449Z",
     "shell.execute_reply": "2022-06-01T16:38:52.806827Z"
    },
    "papermill": {
     "duration": 0.058382,
     "end_time": "2022-06-01T16:38:52.807596",
     "exception": false,
     "start_time": "2022-06-01T16:38:52.749214",
     "status": "completed"
    },
    "tags": []
   },
   "outputs": [
    {
     "data": {
      "text/html": [
       "<div>\n",
       "<style scoped>\n",
       "    .dataframe tbody tr th:only-of-type {\n",
       "        vertical-align: middle;\n",
       "    }\n",
       "\n",
       "    .dataframe tbody tr th {\n",
       "        vertical-align: top;\n",
       "    }\n",
       "\n",
       "    .dataframe thead th {\n",
       "        text-align: right;\n",
       "    }\n",
       "</style>\n",
       "<table border=\"1\" class=\"dataframe\">\n",
       "  <thead>\n",
       "    <tr style=\"text-align: right;\">\n",
       "      <th></th>\n",
       "      <th>customer_ID</th>\n",
       "      <th>P_2</th>\n",
       "      <th>P_4_x</th>\n",
       "      <th>S_2</th>\n",
       "      <th>D_39</th>\n",
       "      <th>B_1</th>\n",
       "      <th>B_2</th>\n",
       "      <th>R_1</th>\n",
       "      <th>D_41</th>\n",
       "      <th>B_3</th>\n",
       "      <th>...</th>\n",
       "      <th>B_36</th>\n",
       "      <th>B_37</th>\n",
       "      <th>B_38</th>\n",
       "      <th>D_109</th>\n",
       "      <th>D_112</th>\n",
       "      <th>B_40</th>\n",
       "      <th>D_127</th>\n",
       "      <th>B_41</th>\n",
       "      <th>R_28</th>\n",
       "      <th>target</th>\n",
       "    </tr>\n",
       "  </thead>\n",
       "  <tbody>\n",
       "    <tr>\n",
       "      <th>0</th>\n",
       "      <td>0000099d6bd597052cdcda90ffabf56573fe9d7c79be5f...</td>\n",
       "      <td>0.938469</td>\n",
       "      <td>0.007554</td>\n",
       "      <td>2017-03-09</td>\n",
       "      <td>0.001733</td>\n",
       "      <td>0.008724</td>\n",
       "      <td>1.006838</td>\n",
       "      <td>0.009228</td>\n",
       "      <td>0.008771</td>\n",
       "      <td>0.004709</td>\n",
       "      <td>...</td>\n",
       "      <td>0.009968</td>\n",
       "      <td>0.004572</td>\n",
       "      <td>2.0</td>\n",
       "      <td>0.004326</td>\n",
       "      <td>1.007336</td>\n",
       "      <td>0.210060</td>\n",
       "      <td>1.003319</td>\n",
       "      <td>0.006805</td>\n",
       "      <td>0.001535</td>\n",
       "      <td>0</td>\n",
       "    </tr>\n",
       "    <tr>\n",
       "      <th>1</th>\n",
       "      <td>0000099d6bd597052cdcda90ffabf56573fe9d7c79be5f...</td>\n",
       "      <td>0.938469</td>\n",
       "      <td>0.007554</td>\n",
       "      <td>2017-04-07</td>\n",
       "      <td>0.005775</td>\n",
       "      <td>0.004923</td>\n",
       "      <td>1.000653</td>\n",
       "      <td>0.006151</td>\n",
       "      <td>0.000798</td>\n",
       "      <td>0.002714</td>\n",
       "      <td>...</td>\n",
       "      <td>0.003921</td>\n",
       "      <td>0.004654</td>\n",
       "      <td>2.0</td>\n",
       "      <td>0.008707</td>\n",
       "      <td>1.007653</td>\n",
       "      <td>0.184093</td>\n",
       "      <td>1.008394</td>\n",
       "      <td>0.004407</td>\n",
       "      <td>0.004931</td>\n",
       "      <td>0</td>\n",
       "    </tr>\n",
       "    <tr>\n",
       "      <th>2</th>\n",
       "      <td>0000099d6bd597052cdcda90ffabf56573fe9d7c79be5f...</td>\n",
       "      <td>0.938469</td>\n",
       "      <td>0.007554</td>\n",
       "      <td>2017-05-28</td>\n",
       "      <td>0.091505</td>\n",
       "      <td>0.021655</td>\n",
       "      <td>1.009672</td>\n",
       "      <td>0.006815</td>\n",
       "      <td>0.007598</td>\n",
       "      <td>0.009423</td>\n",
       "      <td>...</td>\n",
       "      <td>0.001264</td>\n",
       "      <td>0.019176</td>\n",
       "      <td>2.0</td>\n",
       "      <td>0.004092</td>\n",
       "      <td>1.004312</td>\n",
       "      <td>0.154837</td>\n",
       "      <td>1.009307</td>\n",
       "      <td>0.003221</td>\n",
       "      <td>0.009123</td>\n",
       "      <td>0</td>\n",
       "    </tr>\n",
       "    <tr>\n",
       "      <th>3</th>\n",
       "      <td>0000099d6bd597052cdcda90ffabf56573fe9d7c79be5f...</td>\n",
       "      <td>0.938469</td>\n",
       "      <td>0.007554</td>\n",
       "      <td>2017-06-13</td>\n",
       "      <td>0.002455</td>\n",
       "      <td>0.013683</td>\n",
       "      <td>1.002700</td>\n",
       "      <td>0.001373</td>\n",
       "      <td>0.000685</td>\n",
       "      <td>0.005531</td>\n",
       "      <td>...</td>\n",
       "      <td>0.002729</td>\n",
       "      <td>0.011720</td>\n",
       "      <td>2.0</td>\n",
       "      <td>0.009703</td>\n",
       "      <td>1.002538</td>\n",
       "      <td>0.153939</td>\n",
       "      <td>1.001671</td>\n",
       "      <td>0.007703</td>\n",
       "      <td>0.002409</td>\n",
       "      <td>0</td>\n",
       "    </tr>\n",
       "    <tr>\n",
       "      <th>4</th>\n",
       "      <td>0000099d6bd597052cdcda90ffabf56573fe9d7c79be5f...</td>\n",
       "      <td>0.938469</td>\n",
       "      <td>0.007554</td>\n",
       "      <td>2017-07-16</td>\n",
       "      <td>0.002483</td>\n",
       "      <td>0.015193</td>\n",
       "      <td>1.000727</td>\n",
       "      <td>0.007605</td>\n",
       "      <td>0.004653</td>\n",
       "      <td>0.009312</td>\n",
       "      <td>...</td>\n",
       "      <td>0.009998</td>\n",
       "      <td>0.017598</td>\n",
       "      <td>2.0</td>\n",
       "      <td>0.009120</td>\n",
       "      <td>1.000130</td>\n",
       "      <td>0.120717</td>\n",
       "      <td>1.009886</td>\n",
       "      <td>0.009823</td>\n",
       "      <td>0.004462</td>\n",
       "      <td>0</td>\n",
       "    </tr>\n",
       "  </tbody>\n",
       "</table>\n",
       "<p>5 rows × 97 columns</p>\n",
       "</div>"
      ],
      "text/plain": [
       "                                         customer_ID       P_2     P_4_x  \\\n",
       "0  0000099d6bd597052cdcda90ffabf56573fe9d7c79be5f...  0.938469  0.007554   \n",
       "1  0000099d6bd597052cdcda90ffabf56573fe9d7c79be5f...  0.938469  0.007554   \n",
       "2  0000099d6bd597052cdcda90ffabf56573fe9d7c79be5f...  0.938469  0.007554   \n",
       "3  0000099d6bd597052cdcda90ffabf56573fe9d7c79be5f...  0.938469  0.007554   \n",
       "4  0000099d6bd597052cdcda90ffabf56573fe9d7c79be5f...  0.938469  0.007554   \n",
       "\n",
       "          S_2      D_39       B_1       B_2       R_1      D_41       B_3  \\\n",
       "0  2017-03-09  0.001733  0.008724  1.006838  0.009228  0.008771  0.004709   \n",
       "1  2017-04-07  0.005775  0.004923  1.000653  0.006151  0.000798  0.002714   \n",
       "2  2017-05-28  0.091505  0.021655  1.009672  0.006815  0.007598  0.009423   \n",
       "3  2017-06-13  0.002455  0.013683  1.002700  0.001373  0.000685  0.005531   \n",
       "4  2017-07-16  0.002483  0.015193  1.000727  0.007605  0.004653  0.009312   \n",
       "\n",
       "   ...      B_36      B_37  B_38     D_109     D_112      B_40     D_127  \\\n",
       "0  ...  0.009968  0.004572   2.0  0.004326  1.007336  0.210060  1.003319   \n",
       "1  ...  0.003921  0.004654   2.0  0.008707  1.007653  0.184093  1.008394   \n",
       "2  ...  0.001264  0.019176   2.0  0.004092  1.004312  0.154837  1.009307   \n",
       "3  ...  0.002729  0.011720   2.0  0.009703  1.002538  0.153939  1.001671   \n",
       "4  ...  0.009998  0.017598   2.0  0.009120  1.000130  0.120717  1.009886   \n",
       "\n",
       "       B_41      R_28  target  \n",
       "0  0.006805  0.001535       0  \n",
       "1  0.004407  0.004931       0  \n",
       "2  0.003221  0.009123       0  \n",
       "3  0.007703  0.002409       0  \n",
       "4  0.009823  0.004462       0  \n",
       "\n",
       "[5 rows x 97 columns]"
      ]
     },
     "execution_count": 19,
     "metadata": {},
     "output_type": "execute_result"
    }
   ],
   "source": [
    "df.head()"
   ]
  },
  {
   "cell_type": "code",
   "execution_count": 20,
   "id": "5c915efa",
   "metadata": {
    "execution": {
     "iopub.execute_input": "2022-06-01T16:38:52.866569Z",
     "iopub.status.busy": "2022-06-01T16:38:52.865383Z",
     "iopub.status.idle": "2022-06-01T16:38:52.879184Z",
     "shell.execute_reply": "2022-06-01T16:38:52.879662Z"
    },
    "papermill": {
     "duration": 0.045925,
     "end_time": "2022-06-01T16:38:52.879846",
     "exception": false,
     "start_time": "2022-06-01T16:38:52.833921",
     "status": "completed"
    },
    "tags": []
   },
   "outputs": [],
   "source": [
    "df.P_2.fillna(0,inplace=True)"
   ]
  },
  {
   "cell_type": "code",
   "execution_count": 21,
   "id": "dc5bae3e",
   "metadata": {
    "execution": {
     "iopub.execute_input": "2022-06-01T16:38:52.936740Z",
     "iopub.status.busy": "2022-06-01T16:38:52.935772Z",
     "iopub.status.idle": "2022-06-01T16:38:55.503362Z",
     "shell.execute_reply": "2022-06-01T16:38:55.502125Z"
    },
    "papermill": {
     "duration": 2.597283,
     "end_time": "2022-06-01T16:38:55.503518",
     "exception": false,
     "start_time": "2022-06-01T16:38:52.906235",
     "status": "completed"
    },
    "tags": []
   },
   "outputs": [],
   "source": [
    "df=df[~((df.P_2<0)&(df.target==1))]"
   ]
  },
  {
   "cell_type": "code",
   "execution_count": 22,
   "id": "ae8c54f9",
   "metadata": {
    "execution": {
     "iopub.execute_input": "2022-06-01T16:38:55.562918Z",
     "iopub.status.busy": "2022-06-01T16:38:55.562312Z",
     "iopub.status.idle": "2022-06-01T16:38:55.565513Z",
     "shell.execute_reply": "2022-06-01T16:38:55.564885Z"
    },
    "papermill": {
     "duration": 0.035657,
     "end_time": "2022-06-01T16:38:55.565647",
     "exception": false,
     "start_time": "2022-06-01T16:38:55.529990",
     "status": "completed"
    },
    "tags": []
   },
   "outputs": [
    {
     "data": {
      "text/plain": [
       "Index(['customer_ID', 'P_2', 'P_4_x', 'S_2', 'D_39', 'B_1', 'B_2', 'R_1',\n",
       "       'D_41', 'B_3', 'B_4', 'D_45', 'B_5', 'R_2', 'D_47', 'B_6', 'B_7',\n",
       "       'D_51', 'B_9', 'R_3', 'B_10', 'S_5', 'B_11', 'S_6', 'D_54', 'R_4',\n",
       "       'B_12', 'S_8', 'R_5', 'D_58', 'B_14', 'D_60', 'S_11', 'D_63', 'D_65',\n",
       "       'B_16', 'B_18', 'B_19', 'B_20', 'S_12', 'R_6', 'S_13', 'B_21', 'B_22',\n",
       "       'D_71', 'S_15', 'B_23', 'P_4_y', 'D_75', 'B_24', 'R_7', 'B_26', 'R_8',\n",
       "       'S_16', 'R_10', 'R_11', 'B_27', 'S_17', 'R_12', 'B_28', 'R_13', 'R_14',\n",
       "       'R_15', 'R_16', 'B_30', 'S_18', 'D_86', 'R_17', 'R_18', 'B_31', 'S_19',\n",
       "       'R_19', 'B_32', 'S_20', 'R_20', 'R_21', 'B_33', 'R_22', 'R_23', 'D_92',\n",
       "       'D_93', 'D_94', 'R_24', 'R_25', 'D_96', 'S_23', 'S_26', 'B_36', 'B_37',\n",
       "       'B_38', 'D_109', 'D_112', 'B_40', 'D_127', 'B_41', 'R_28', 'target'],\n",
       "      dtype='object')"
      ]
     },
     "execution_count": 22,
     "metadata": {},
     "output_type": "execute_result"
    }
   ],
   "source": [
    "df.columns"
   ]
  },
  {
   "cell_type": "code",
   "execution_count": 23,
   "id": "ad16d345",
   "metadata": {
    "execution": {
     "iopub.execute_input": "2022-06-01T16:38:55.623101Z",
     "iopub.status.busy": "2022-06-01T16:38:55.622362Z",
     "iopub.status.idle": "2022-06-01T16:59:44.006864Z",
     "shell.execute_reply": "2022-06-01T16:59:44.005642Z"
    },
    "papermill": {
     "duration": 1248.414597,
     "end_time": "2022-06-01T16:59:44.007265",
     "exception": false,
     "start_time": "2022-06-01T16:38:55.592668",
     "status": "completed"
    },
    "tags": []
   },
   "outputs": [],
   "source": [
    "df.to_csv(\"america_predict.csv\")"
   ]
  },
  {
   "cell_type": "code",
   "execution_count": 24,
   "id": "dd634d8c",
   "metadata": {
    "execution": {
     "iopub.execute_input": "2022-06-01T16:59:44.084842Z",
     "iopub.status.busy": "2022-06-01T16:59:44.084052Z",
     "iopub.status.idle": "2022-06-01T16:59:51.688012Z",
     "shell.execute_reply": "2022-06-01T16:59:51.687185Z"
    },
    "papermill": {
     "duration": 7.640351,
     "end_time": "2022-06-01T16:59:51.688239",
     "exception": false,
     "start_time": "2022-06-01T16:59:44.047888",
     "status": "completed"
    },
    "tags": []
   },
   "outputs": [],
   "source": [
    "x=df.drop(\"target\",axis=1)\n",
    "y=df.target"
   ]
  },
  {
   "cell_type": "code",
   "execution_count": null,
   "id": "64df174d",
   "metadata": {
    "papermill": {
     "duration": 0.028028,
     "end_time": "2022-06-01T16:59:51.746003",
     "exception": false,
     "start_time": "2022-06-01T16:59:51.717975",
     "status": "completed"
    },
    "tags": []
   },
   "outputs": [],
   "source": []
  }
 ],
 "metadata": {
  "kernelspec": {
   "display_name": "Python 3",
   "language": "python",
   "name": "python3"
  },
  "language_info": {
   "codemirror_mode": {
    "name": "ipython",
    "version": 3
   },
   "file_extension": ".py",
   "mimetype": "text/x-python",
   "name": "python",
   "nbconvert_exporter": "python",
   "pygments_lexer": "ipython3",
   "version": "3.7.10"
  },
  "papermill": {
   "default_parameters": {},
   "duration": 1343.410361,
   "end_time": "2022-06-01T16:59:54.381493",
   "environment_variables": {},
   "exception": null,
   "input_path": "__notebook__.ipynb",
   "output_path": "__notebook__.ipynb",
   "parameters": {},
   "start_time": "2022-06-01T16:37:30.971132",
   "version": "2.3.3"
  }
 },
 "nbformat": 4,
 "nbformat_minor": 5
}
